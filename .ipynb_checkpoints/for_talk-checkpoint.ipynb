{
 "cells": [
  {
   "cell_type": "markdown",
   "id": "df405605-4a2c-4165-a0c3-6e1f65bdf469",
   "metadata": {},
   "source": [
    "# Useful basics of Python for scientists"
   ]
  },
  {
   "cell_type": "markdown",
   "id": "6a3a9864-5bed-4db6-88f2-b607ece3839b",
   "metadata": {},
   "source": [
    "### The following is a binder for some basic useful operations in Python"
   ]
  },
  {
   "cell_type": "markdown",
   "id": "0e9bccbc-115e-456e-9ff9-6d8c6966c1ea",
   "metadata": {},
   "source": [
    "The point of this notebook/binder is to introduce some key concepts in working with code for science. It is structured similarly to how an actual data analysis notebook might be set up. ** Super important ** : Make sure you have opened (by clicking) the folder in the left bar so you can see any folder and files you create. Can you see where the README.md for the repo is? Then continue...\n",
    "\n",
    "\n",
    "<a href=\"#Lesson-One\">Lesson One</a>\n",
    "Making and deleting folders\n",
    "\n",
    "\n",
    "\n",
    "\n",
    "<a href=\"#Lesson-Two\">Lesson Two</a>\n",
    "Getting some basic statistics\n",
    "\n",
    "\n",
    "\n",
    "<a href=\"#Lesson-Three\">Lesson Three</a>\n",
    "Graphing stuff"
   ]
  },
  {
   "cell_type": "code",
   "execution_count": null,
   "id": "c3c9c8b4-5a66-4065-ab33-d1dced704063",
   "metadata": {},
   "outputs": [],
   "source": [
    "# import libraries\n",
    "import os\n",
    "import shutil\n",
    "import numpy as np\n",
    "import pandas as pd\n",
    "import matplotlib.pyplot as plt"
   ]
  },
  {
   "cell_type": "markdown",
   "id": "df8a563d-c065-4dbe-828c-4e95dde8abf4",
   "metadata": {},
   "source": [
    "## Lesson One"
   ]
  },
  {
   "cell_type": "code",
   "execution_count": null,
   "id": "31512a30-fb32-4181-959c-6c6561d37ecb",
   "metadata": {},
   "outputs": [],
   "source": [
    "# here we will show an alternative way to make folders (not bash but python)\n",
    "# note, this will drop it into the repo where your notebook is\n",
    "os.mkdir('to_be_erased')"
   ]
  },
  {
   "cell_type": "markdown",
   "id": "6a613dd3-689a-4b7c-9752-336639b6e63a",
   "metadata": {},
   "source": [
    "Let's break that down: We just called the Python os library. OS stands for operating system, we will use it to handle stuff on our operating system. os.mkdir() is a method that create a new directory at a specified path (you put in the path as a parameter (the things in parenthesis)). If the directory already exists, a FileExistsError is raised."
   ]
  },
  {
   "cell_type": "code",
   "execution_count": null,
   "id": "dcfac920-b18f-4977-b1c0-bedeb1fbe8ff",
   "metadata": {},
   "outputs": [],
   "source": [
    "# here we will put in the whole tree in a for-loop\n",
    "for i in range(0, 6):\n",
    "    end = (str(\"directory_\" + str(i)))\n",
    "    os.mkdir(os.path.join('to_be_erased', end))"
   ]
  },
  {
   "cell_type": "markdown",
   "id": "2e5dd048-7d67-4240-afd5-93ba1d97f2b2",
   "metadata": {},
   "source": [
    "Let's break that down:\n",
    "The first code line ( for i in range(0, 6):) gives a different number to the letter i, starting at 0 and going up to 5, and starts a for loop. In the for loop we will do the next steps after it for each of the numbers 0,1,2,3,4,5. We use the number in i from the loop and adds it to the word \"directory_\" making a string (a specific kind of variable). In the final line we take this string and create it as a folder."
   ]
  },
  {
   "cell_type": "code",
   "execution_count": null,
   "id": "f9500479-b07f-4bc3-b47a-a90c523aaaf3",
   "metadata": {},
   "outputs": [],
   "source": [
    "# here we will take down the whole folder tree\n",
    "shutil.rmtree('to_be_erased')"
   ]
  },
  {
   "cell_type": "markdown",
   "id": "f2716e3a-d9e6-463a-a457-eea371931b24",
   "metadata": {},
   "source": [
    "Let's break that down: Shutil is another library for file operations. Could this have been done with os? Yes, but shutil is more convenient. This shutil method let's us take down a whole folder tree with stuff inside in one fell swoop. "
   ]
  },
  {
   "cell_type": "markdown",
   "id": "88c7762e-2c6f-4f43-84d7-3a55a9e40562",
   "metadata": {},
   "source": [
    "# Lesson Two \n",
    "Some basic statistics"
   ]
  },
  {
   "cell_type": "markdown",
   "id": "2e191ccb-85f0-4032-9182-7286f71ad7d8",
   "metadata": {},
   "source": [
    "Here I will show how descriptive statsistics can be easy as one liners of code"
   ]
  },
  {
   "cell_type": "markdown",
   "id": "c1c83d60-19e9-4b3b-b593-e33a03db13e1",
   "metadata": {},
   "source": [
    "Below we will make a fake dataset\n"
   ]
  },
  {
   "cell_type": "markdown",
   "id": "362600a6-205f-469c-ba26-965359127fe9",
   "metadata": {},
   "source": [
    "The following cell contains entirely made up data in no way related to any of the actual patients or participants"
   ]
  },
  {
   "cell_type": "code",
   "execution_count": null,
   "id": "86b36409-55d2-48e2-be3d-4b986263512f",
   "metadata": {},
   "outputs": [],
   "source": [
    "# made up sample data for 5 subjects\n",
    "data = {\n",
    "    'participant_id': [101, 102, 103, 104, 105, 106, 107],\n",
    "    'tibialis_anterior_volume_left': [1500, 1600, 1580, 1550, 1620, 1123, 1123],\n",
    "    'tibialis_anterior_volume_right': [1520, 1610, 1575, 1560, 1600, 1333, 1333],\n",
    "    'gluteus_max_volume_left': [7500, 7700, 7600, 7650, 7800, 1222, 7888],\n",
    "    'gluteus_max_volume_right': [7550, 7680, 7580, 7700, 7850, 7890,5678],\n",
    "    'soleus_volume_left': [3000, 3100, 3050, 3080, 3150, 5567,3213],\n",
    "    'soleus_volume_right': [3020, 3090, 3060, 3070, 3140, 2343, 3454],\n",
    "}\n",
    "\n",
    "# make a ataFrame\n",
    "df = pd.DataFrame(data)\n",
    "\n",
    "# display top 2 lines of dataFrame\n",
    "df.head(2)\n"
   ]
  },
  {
   "cell_type": "markdown",
   "id": "c9455275-f863-4c58-81c7-84bb978f618d",
   "metadata": {},
   "source": [
    "Want to break that down?: go to the documentation for pandas [https://pandas.pydata.org/docs/](https://pandas.pydata.org/docs/) and search the DataFrame method. "
   ]
  },
  {
   "cell_type": "code",
   "execution_count": null,
   "id": "c5d3c8ad-e6de-4593-bf7c-91d82bd5aa42",
   "metadata": {},
   "outputs": [],
   "source": [
    "df.describe()"
   ]
  },
  {
   "cell_type": "code",
   "execution_count": null,
   "id": "e3529e72-9d3d-403d-9821-ac22e124432d",
   "metadata": {},
   "outputs": [],
   "source": [
    "df.corr(method='spearman')"
   ]
  },
  {
   "cell_type": "code",
   "execution_count": null,
   "id": "cef491d6-cc49-4611-a62e-3fd735231eae",
   "metadata": {},
   "outputs": [],
   "source": []
  },
  {
   "cell_type": "markdown",
   "id": "302679b9-fe69-45a4-8209-e411b713eecf",
   "metadata": {},
   "source": [
    "But what if I didn't know the methods? ANd am to lazy to read the whole documentation?"
   ]
  },
  {
   "cell_type": "code",
   "execution_count": null,
   "id": "a63650fd-e52f-4df9-8953-4e3027d53de9",
   "metadata": {},
   "outputs": [],
   "source": [
    "df.corr?"
   ]
  },
  {
   "cell_type": "markdown",
   "id": "0efe252b-c1ad-40e2-9c3e-e5c7f17b1ce9",
   "metadata": {},
   "source": [
    "## Lesson Three\n",
    "\n",
    "graphing"
   ]
  },
  {
   "cell_type": "markdown",
   "id": "8de4d514-43f0-4e10-8afd-e6f5bb91deb1",
   "metadata": {},
   "source": [
    "Here we will do a quick and basic plot"
   ]
  },
  {
   "cell_type": "code",
   "execution_count": null,
   "id": "c6463b50-f502-409e-a0cb-45f43d809920",
   "metadata": {},
   "outputs": [],
   "source": [
    "plt.scatter(df.tibialis_anterior_volume_left, df.tibialis_anterior_volume_right)"
   ]
  },
  {
   "cell_type": "markdown",
   "id": "cb3d3c0a-fb66-4550-8cdb-77d1aef3463c",
   "metadata": {},
   "source": [
    "Now we can get a bit fancy in several ways...what if we want to emphasize the relationship line, which in this case looks linear i.e. first degree"
   ]
  },
  {
   "cell_type": "code",
   "execution_count": null,
   "id": "ac130052-8990-41f0-b388-6a7171d6611e",
   "metadata": {},
   "outputs": [],
   "source": [
    "\n",
    "x = np.array(df.tibialis_anterior_volume_left)\n",
    "y = np.array(df.tibialis_anterior_volume_right)\n",
    "\n",
    "# fit a 1st degree polynomial (i.e., y = mx + b)\n",
    "slope, intercept = np.polyfit(x, y, 1)\n",
    "\n",
    "# generate predicted y values\n",
    "y_fit = slope * x + intercept\n",
    "\n",
    "# Plot data and best-fit line\n",
    "plt.scatter(x, y, color='blue', label='Data points')\n",
    "plt.plot(x, y_fit, color='red', label=f'Best-fit line: y = {slope:.2f}x + {intercept:.2f}')\n",
    "\n",
    "# Labels and grid\n",
    "plt.xlabel('left tibialis')\n",
    "plt.ylabel('right tibilialis')\n",
    "plt.title('Tibialis L v. R with Linear Fit')\n",
    "plt.legend()\n",
    "plt.grid(True)\n",
    "plt.show()\n"
   ]
  },
  {
   "cell_type": "markdown",
   "id": "b02b2d87-03df-481c-841c-44e0dbc32364",
   "metadata": {},
   "source": [
    "Or what if we want to look at /emphasize individual particpants?"
   ]
  },
  {
   "cell_type": "code",
   "execution_count": null,
   "id": "6badb25c-5186-4566-a03e-97bb757018ca",
   "metadata": {},
   "outputs": [],
   "source": [
    "x = df['tibialis_anterior_volume_right']\n",
    "y = df['tibialis_anterior_volume_left']\n",
    "# Labels and fancy\n",
    "labels = df['participant_id']\n",
    "cmap = plt.get_cmap('tab20') \n",
    "for i in range(len(x)):\n",
    "    plt.scatter(x[i], y[i], color=cmap(i), label=labels[i])\n",
    "plt.legend(title='Labels', bbox_to_anchor=(1.05, 1), loc='upper left')\n",
    "plt.xlabel('tibialis right')\n",
    "plt.ylabel('tibilias left')"
   ]
  },
  {
   "cell_type": "markdown",
   "id": "f80f8ad9-2487-4b46-9695-b9260d090425",
   "metadata": {},
   "source": [
    "You can do decent graphing even in matplotlib. For advanced graphing consider other libraries in addition i.e. seaborn, plotly etc. "
   ]
  }
 ],
 "metadata": {
  "kernelspec": {
   "display_name": "Python 3 (ipykernel)",
   "language": "python",
   "name": "python3"
  },
  "language_info": {
   "codemirror_mode": {
    "name": "ipython",
    "version": 3
   },
   "file_extension": ".py",
   "mimetype": "text/x-python",
   "name": "python",
   "nbconvert_exporter": "python",
   "pygments_lexer": "ipython3",
   "version": "3.13.3"
  }
 },
 "nbformat": 4,
 "nbformat_minor": 5
}
